{
 "cells": [
  {
   "cell_type": "code",
   "execution_count": 1,
   "metadata": {},
   "outputs": [],
   "source": [
    "import tensorflow as tf\n",
    "import matplotlib.pyplot as plt\n",
    "from keras.models import Model, Sequential\n",
    "from keras.layers import Dense, MaxPool2D, AvgPool2D, Conv2D, BatchNormalization, Softmax, ReLU\n",
    "from keras.optimizers import RMSprop\n",
    "from keras.losses import SparseCategoricalCrossentropy\n",
    "from keras.callbacks import ModelCheckpoint\n",
    "from keras.datasets import "
   ]
  },
  {
   "cell_type": "code",
   "execution_count": 2,
   "metadata": {},
   "outputs": [],
   "source": [
    "class ResBlock(Model):\n",
    "    def __init__(self, conv_count=2, filters=64, strides=1):\n",
    "        super().__init__()\n",
    "\n",
    "        if isinstance(filters, int):\n",
    "            filters = [filters] * conv_count\n",
    "        elif isinstance(filters, tuple) or isinstance(filters, list):\n",
    "            if len(filters) != conv_count:\n",
    "                raise ValueError('len(filters) not equals conv_count.')\n",
    "        else:\n",
    "            raise TypeError('Unsupported value type for filters.')\n",
    "\n",
    "        if isinstance(strides, int):\n",
    "            strides = [strides] * conv_count\n",
    "        elif isinstance(strides, tuple) or isinstance(strides, list):\n",
    "            if len(strides) != conv_count:\n",
    "                raise ValueError('len(strides) not equals conv_count.')\n",
    "        else:\n",
    "            raise TypeError('Unsupported value type for strides.')\n",
    "\n",
    "        self.convs = list()\n",
    "        for i in range(conv_count):\n",
    "            self.convs.append(Conv2D(filters=filters[i], \n",
    "                                     kernel_size=3, \n",
    "                                     strides=strides[i]))\n",
    "        self.activations = list()\n",
    "        for i in range(conv_count):\n",
    "            self.activations.append(ReLU())\n",
    "        self.bn = list()\n",
    "        for i in range(conv_count):\n",
    "            self.bn.append(BatchNormalization())\n",
    "    \n",
    "    def call(self, x):\n",
    "        y = x\n",
    "        for layer in range(self.layers):\n",
    "            y = self.convs[layer](y)\n",
    "            y = self.activations[layer](y)\n",
    "            y = self.bn[layer](y)\n",
    "        y += x\n",
    "        return y"
   ]
  },
  {
   "cell_type": "code",
   "execution_count": null,
   "metadata": {},
   "outputs": [],
   "source": [
    "class ConvBlock(Model):\n",
    "    def __init__(self, resblock_count=3, filters=64, first_layer=False):\n",
    "        super().__init__()\n",
    "        self.blocks = list()\n",
    "        for i in range(resblock_count):\n",
    "            if not first_layer and i == 0:\n",
    "                self.blocks.append(ResBlock(filters=filters, strides=(2,1)))\n",
    "            else:\n",
    "                self.blocks.append(ResBlock(filters=filters, strides=1))\n",
    "    \n",
    "    def call(self, x):\n",
    "        for block in self.blocks:\n",
    "            x = block(x)\n",
    "        return x"
   ]
  },
  {
   "cell_type": "code",
   "execution_count": null,
   "metadata": {},
   "outputs": [],
   "source": [
    "class ResNet(Model):\n",
    "    def __init__(self):\n",
    "        super().__init__()\n",
    "        self.conv1 = Conv2D(filters=64, kernel_size=7, strides=2, padding='same')\n",
    "        self.pool1 = MaxPool2D(pool_size=3, strides=2)\n",
    "        self.conv2_x = ConvBlock(resblock_count=2, filters=64, first_layer=True)\n",
    "        self.conv3_x = ConvBlock(resblock_count=2, filters=128)\n",
    "        self.conv4_x = ConvBlock(resblock_count=2, filters=256)\n",
    "        self.conv5_x = ConvBlock(resblock_count=2, filters=512)\n",
    "        self.pool2 = AvgPool2D()\n",
    "        self.dense = Dense(10)\n",
    "        self.softmax = Softmax()\n",
    "\n",
    "    def call(self, x):\n",
    "        x = self.conv1(x)\n",
    "        x = self.pool1(x)\n",
    "        x = self.conv2_x(x)\n",
    "        x = self.conv3_x(x)\n",
    "        x = self.conv4_x(x)\n",
    "        x = self.conv5_x(x)\n",
    "        x = self.pool2(x)\n",
    "        x = self.dense(x)\n",
    "        x = self.softmax(x)\n",
    "        return x"
   ]
  }
 ],
 "metadata": {
  "kernelspec": {
   "display_name": "base",
   "language": "python",
   "name": "python3"
  },
  "language_info": {
   "codemirror_mode": {
    "name": "ipython",
    "version": 3
   },
   "file_extension": ".py",
   "mimetype": "text/x-python",
   "name": "python",
   "nbconvert_exporter": "python",
   "pygments_lexer": "ipython3",
   "version": "3.10.9"
  },
  "orig_nbformat": 4
 },
 "nbformat": 4,
 "nbformat_minor": 2
}
